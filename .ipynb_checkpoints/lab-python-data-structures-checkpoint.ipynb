{
 "cells": [
  {
   "cell_type": "markdown",
   "metadata": {
    "tags": []
   },
   "source": [
    "# Lab | Data Structures "
   ]
  },
  {
   "cell_type": "markdown",
   "metadata": {},
   "source": [
    "## Exercise: Managing Customer Orders\n",
    "\n",
    "As part of a business venture, you are starting an online store that sells various products. To ensure smooth operations, you need to develop a program that manages customer orders and inventory.\n",
    "\n",
    "Follow the steps below to complete the exercise:\n",
    "\n",
    "1. Define a list called `products` that contains the following items: \"t-shirt\", \"mug\", \"hat\", \"book\", \"keychain\".\n",
    "\n",
    "2. Create an empty dictionary called `inventory`.\n",
    "\n",
    "3. Ask the user to input the quantity of each product available in the inventory. Use the product names from the `products` list as keys in the `inventory` dictionary and assign the respective quantities as values.\n",
    "\n",
    "4. Create an empty set called `customer_orders`.\n",
    "\n",
    "5. Ask the user to input the name of three products that a customer wants to order (from those in the products list, meaning three products out of \"t-shirt\", \"mug\", \"hat\", \"book\" or \"keychain\". Add each product name to the `customer_orders` set.\n",
    "\n",
    "6. Print the products in the `customer_orders` set.\n",
    "\n",
    "7. Calculate the following order statistics:\n",
    "   - Total Products Ordered: The total number of products in the `customer_orders` set.\n",
    "   - Percentage of Products Ordered: The percentage of products ordered compared to the total available products.\n",
    "   \n",
    "   Store these statistics in a tuple called `order_status`.\n",
    "\n",
    "8. Print the order statistics using the following format:\n",
    "   ```\n",
    "   Order Statistics:\n",
    "   Total Products Ordered: <total_products_ordered>\n",
    "   Percentage of Products Ordered: <percentage_ordered>% \n",
    "   ```\n",
    "\n",
    "9. Update the inventory by subtracting 1 from the quantity of each product. Modify the `inventory` dictionary accordingly.\n",
    "\n",
    "10. Print the updated inventory, displaying the quantity of each product on separate lines.\n",
    "\n",
    "Solve the exercise by implementing the steps using the Python concepts of lists, dictionaries, sets, and basic input/output operations. "
   ]
  },
  {
   "cell_type": "code",
   "execution_count": 1,
   "metadata": {},
   "outputs": [
    {
     "name": "stdout",
     "output_type": "stream",
     "text": [
      "['t-shirt', 'mug', 'hat', 'book', 'keychain']\n"
     ]
    }
   ],
   "source": [
    "# Step 1: Define the list of products\n",
    "products = [\"t-shirt\", \"mug\", \"hat\", \"book\", \"keychain\"]\n",
    "\n",
    "print(products)\n",
    "    "
   ]
  },
  {
   "cell_type": "code",
   "execution_count": null,
   "metadata": {},
   "outputs": [],
   "source": [
    "inventory = dict[\"t-shirt\", \"mug\", \"hat\", \"book\", \"keychain\"]\n"
   ]
  },
  {
   "cell_type": "code",
   "execution_count": 16,
   "metadata": {},
   "outputs": [
    {
     "name": "stdout",
     "output_type": "stream",
     "text": [
      "the quantity t-shirt is:2\n",
      "the quantity mug is:34\n",
      "the quantity hat is:34\n",
      "the quantity book is:3\n",
      "the quantity keychain is:34\n",
      "\n",
      "Updated Inventory:\n",
      "t-shirt: 2\n",
      "mug: 34\n",
      "hat: 34\n",
      "book: 3\n",
      "keychain: 34\n"
     ]
    }
   ],
   "source": [
    "#Ask the user to input the quantity of each product available in the inventory\n",
    "\n",
    "inventory ['t-shirt']=int(input('the quantity t-shirt is:'))\n",
    "inventory ['mug']=int(input('the quantity mug is:'))\n",
    "inventory ['hat']=int(input('the quantity hat is:'))\n",
    "inventory ['book']=int(input('the quantity book is:'))\n",
    "inventory ['keychain']=int(input('the quantity keychain is:'))\n",
    "\n",
    "# Display the updated inventory\n",
    "print(\"\\nUpdated Inventory:\")\n",
    "for product, quantity in inventory.items():\n",
    "    print(f\"{product}: {quantity}\")"
   ]
  },
  {
   "cell_type": "code",
   "execution_count": 18,
   "metadata": {},
   "outputs": [
    {
     "name": "stdout",
     "output_type": "stream",
     "text": [
      "{'mug', 'hat', 'keychain', 't-shirt', 'book'}\n"
     ]
    }
   ],
   "source": [
    "customer_orders = set()\n",
    "\n",
    "# Given sets\n",
    "set_1 = {'t-shirt', 'mug', 'hat'}\n",
    "set_2 = {'book', 'keychain'}\n",
    "\n",
    "# Union of set_1 and set_2\n",
    "union = set_1.union(set_2)\n",
    "\n",
    "print(union)  # Output: {'t-shirt', 'mug', 'hat', 'book', 'keychain'}\n"
   ]
  },
  {
   "cell_type": "code",
   "execution_count": 19,
   "metadata": {},
   "outputs": [
    {
     "name": "stdout",
     "output_type": "stream",
     "text": [
      "Enter a product name (t-shirt, mug, hat, book, keychain): mug\n",
      "Enter a product name (t-shirt, mug, hat, book, keychain): book\n",
      "Enter a product name (t-shirt, mug, hat, book, keychain): hat\n"
     ]
    }
   ],
   "source": [
    "# Ask the user to input the name of three products\n",
    "for _ in range(3):\n",
    "    product = input(\"Enter a product name (t-shirt, mug, hat, book, keychain): \")\n",
    "    customer_orders.add(product)"
   ]
  },
  {
   "cell_type": "code",
   "execution_count": 22,
   "metadata": {},
   "outputs": [
    {
     "name": "stdout",
     "output_type": "stream",
     "text": [
      "\n",
      "Order Statistics:\n",
      "Total Products Ordered: 3\n",
      "Percentage of Products Ordered: 60.00%\n"
     ]
    }
   ],
   "source": [
    "# Calculate order statistics\n",
    "total_products_ordered = len(customer_orders)\n",
    "total_available_products = 5  # Total available products (assuming all 5 products)\n",
    "percentage_ordered = (total_products_ordered / total_available_products) * 100\n",
    "\n",
    "# Store order statistics in a tuple\n",
    "order_status = (total_products_ordered, percentage_ordered)\n",
    "\n",
    "# Print order statistics\n",
    "print(\"\\nOrder Statistics:\")\n",
    "print(f\"Total Products Ordered: {total_products_ordered}\")\n",
    "print(f\"Percentage of Products Ordered: {percentage_ordered:.2f}%\")"
   ]
  },
  {
   "cell_type": "code",
   "execution_count": 23,
   "metadata": {},
   "outputs": [
    {
     "name": "stdout",
     "output_type": "stream",
     "text": [
      "\n",
      "Updated Inventory:\n",
      "t-shirt: 10\n",
      "mug: 14\n",
      "hat: 7\n",
      "book: 19\n",
      "keychain: 30\n"
     ]
    }
   ],
   "source": [
    "# Update the inventory by subtracting 1 from the quantity of each product\n",
    "inventory = {\n",
    "    't-shirt': 10,\n",
    "    'mug': 15,\n",
    "    'hat': 8,\n",
    "    'book': 20,\n",
    "    'keychain': 30\n",
    "}\n",
    "\n",
    "for product in customer_orders:\n",
    "    if product in inventory:\n",
    "        inventory[product] -= 1\n",
    "\n",
    "# Print the updated inventory\n",
    "print(\"\\nUpdated Inventory:\")\n",
    "for product, quantity in inventory.items():\n",
    "    print(f\"{product}: {quantity}\")"
   ]
  },
  {
   "cell_type": "code",
   "execution_count": null,
   "metadata": {},
   "outputs": [],
   "source": []
  }
 ],
 "metadata": {
  "kernelspec": {
   "display_name": "Python 3 (ipykernel)",
   "language": "python",
   "name": "python3"
  },
  "language_info": {
   "codemirror_mode": {
    "name": "ipython",
    "version": 3
   },
   "file_extension": ".py",
   "mimetype": "text/x-python",
   "name": "python",
   "nbconvert_exporter": "python",
   "pygments_lexer": "ipython3",
   "version": "3.11.5"
  }
 },
 "nbformat": 4,
 "nbformat_minor": 4
}
